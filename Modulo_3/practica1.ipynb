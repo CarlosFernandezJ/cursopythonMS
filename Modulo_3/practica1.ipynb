{
 "cells": [
  {
   "cell_type": "code",
   "execution_count": 5,
   "metadata": {},
   "outputs": [],
   "source": [
    "# Tip de práctica 1: Intenta ejecutarlo en un notebook.\n",
    "\n",
    "a = 97\n",
    "b = 55\n",
    "\n",
    "# test expression / expresión de prueba\n",
    "if a < b:\n",
    "    # statement to be run / instrucción a ejecutar\n",
    "    print(b)"
   ]
  },
  {
   "cell_type": "markdown",
   "metadata": {},
   "source": [
    "SINTAXIS IF\n",
    "\n",
    "if expresion_prueba:\n",
    "\n",
    "    # intrucción(es) a ejecutar"
   ]
  },
  {
   "cell_type": "code",
   "execution_count": 6,
   "metadata": {},
   "outputs": [
    {
     "name": "stdout",
     "output_type": "stream",
     "text": [
      "93\n"
     ]
    }
   ],
   "source": [
    "# Aplica el tip de práctica 1.\n",
    "a = 93\n",
    "b = 27\n",
    "if a >= b:\n",
    "    print(a)"
   ]
  },
  {
   "cell_type": "markdown",
   "metadata": {},
   "source": [
    "A la letra 'a' le asigno el valor de 93.\n",
    "\n",
    "A la letra 'b' le asigno el valor de 27.\n",
    "\n",
    "SI a(93) es mayor o igual a b(27) entonces:\n",
    "\n",
    "Muestra (print) el valor de a(93)"
   ]
  },
  {
   "cell_type": "code",
   "execution_count": 10,
   "metadata": {},
   "outputs": [
    {
     "name": "stdout",
     "output_type": "stream",
     "text": [
      "44\n"
     ]
    }
   ],
   "source": [
    "a = 24\n",
    "b = 44\n",
    "if a <= 0:\n",
    "    print(a)\n",
    "print(b)"
   ]
  },
  {
   "cell_type": "code",
   "execution_count": 8,
   "metadata": {},
   "outputs": [
    {
     "name": "stdout",
     "output_type": "stream",
     "text": [
      "93\n"
     ]
    }
   ],
   "source": [
    "a = 93\n",
    "b = 27\n",
    "if a >= b:\n",
    "    print(a)\n",
    "else:\n",
    "    print(b)"
   ]
  },
  {
   "cell_type": "markdown",
   "metadata": {},
   "source": [
    "SINTAXIS IF/ELSE\n",
    "\n",
    "if expresion_prueba:\n",
    "\n",
    "    # instrucción(es) a ejecutar\n",
    "\n",
    "else:\n",
    "\n",
    "    # instrucción(es) a ejecutar"
   ]
  },
  {
   "cell_type": "code",
   "execution_count": 11,
   "metadata": {},
   "outputs": [
    {
     "name": "stdout",
     "output_type": "stream",
     "text": [
      "a es mayor o igual que b\n"
     ]
    }
   ],
   "source": [
    "a = 93\n",
    "b = 27\n",
    "if a >= b:\n",
    "    print(\"a es mayor o igual que b\")\n",
    "elif a == b:\n",
    "    print(\"a es igual que b\")"
   ]
  },
  {
   "cell_type": "markdown",
   "metadata": {},
   "source": [
    "SINTAXIS IF/ELIF\n",
    "\n",
    "if expresion_prueba:\n",
    "\n",
    "    # instrucción(es) a ejecutar\n",
    "\n",
    "elif expresion_prueba:\n",
    "\n",
    "    # instrucción(es) a ejecutar"
   ]
  },
  {
   "cell_type": "code",
   "execution_count": 12,
   "metadata": {},
   "outputs": [
    {
     "name": "stdout",
     "output_type": "stream",
     "text": [
      "a es mayor que b\n"
     ]
    }
   ],
   "source": [
    "a = 93\n",
    "b = 27\n",
    "if a > b:\n",
    "    print(\"a es mayor que b\")\n",
    "elif a < b:\n",
    "    print(\"a es menor que b\")\n",
    "else: \n",
    "    print (\"a es igual que b\")"
   ]
  },
  {
   "cell_type": "markdown",
   "metadata": {},
   "source": [
    "Un bloque de código que utiliza los tres tipos de instrucciones tiene la sintaxis siguiente:\n",
    "\n"
   ]
  },
  {
   "cell_type": "markdown",
   "metadata": {},
   "source": [
    "if expresion_prueba:\n",
    "\n",
    "    # instrucción(es) a ejecutar\n",
    "\n",
    "elif expresion_prueba:\n",
    "\n",
    "    # instrucción(es) a ejecutar\n",
    "\n",
    "elif expresion_prueba:\n",
    "\n",
    "    # instrucción(es) a ejecutar\n",
    "\n",
    "else:\n",
    "\n",
    "    # instrucción(es) a ejecutar"
   ]
  },
  {
   "cell_type": "code",
   "execution_count": 13,
   "metadata": {},
   "outputs": [
    {
     "name": "stdout",
     "output_type": "stream",
     "text": [
      "a es menor que b\n"
     ]
    }
   ],
   "source": [
    "a = 16\n",
    "b = 25\n",
    "c = 27\n",
    "if a > b:\n",
    "    if b > c:\n",
    "        print (\"a es mayor que b y b es mayor que c\")\n",
    "    else: \n",
    "        print (\"a es mayor que b y menor que c\")\n",
    "elif a == b:\n",
    "    print (\"a es igual que b\")\n",
    "else:\n",
    "    print (\"a es menor que b\")"
   ]
  },
  {
   "cell_type": "markdown",
   "metadata": {},
   "source": [
    " lógica condicional anidada"
   ]
  },
  {
   "cell_type": "markdown",
   "metadata": {},
   "source": [
    "if expresion_prueba:\n",
    "\n",
    "    # instrucción(es) a ejecutar\n",
    "\n",
    "    if expresion_prueba:\n",
    "\n",
    "        # instrucción(es) a ejecutar\n",
    "\n",
    "    else: \n",
    "\n",
    "        # instrucción(es) a ejecutar\n",
    "\n",
    "elif expresion_prueba:\n",
    "\n",
    "    # instrucción(es) a ejecutar\n",
    "\n",
    "    if expresion_prueba:\n",
    "\n",
    "        # instrucción(es) a ejecutar\n",
    "\n",
    "    else: \n",
    "\n",
    "        # instrucción(es) a ejecutar\n",
    "\n",
    "else:\n",
    "\n",
    "    # instrucción(es) a ejecutar"
   ]
  },
  {
   "cell_type": "code",
   "execution_count": 14,
   "metadata": {},
   "outputs": [
    {
     "name": "stdout",
     "output_type": "stream",
     "text": [
      "57\n"
     ]
    }
   ],
   "source": [
    "a = 23\n",
    "b = 34\n",
    "if a == 34 or b == 34:\n",
    "    print(a + b)"
   ]
  },
  {
   "cell_type": "markdown",
   "metadata": {},
   "source": [
    "expresión booleana que utiliza or"
   ]
  },
  {
   "cell_type": "markdown",
   "metadata": {},
   "source": [
    "subexpresión1 or subexpresión2"
   ]
  },
  {
   "cell_type": "code",
   "execution_count": 15,
   "metadata": {},
   "outputs": [],
   "source": [
    "a = 23\n",
    "b = 34\n",
    "if a == 34 and b == 34:\n",
    "    print (a + b)"
   ]
  },
  {
   "cell_type": "markdown",
   "metadata": {},
   "source": [
    "expresión booleana que utiliza and"
   ]
  },
  {
   "cell_type": "markdown",
   "metadata": {},
   "source": [
    "subexpresión1 and subexpresión2"
   ]
  }
 ],
 "metadata": {
  "interpreter": {
   "hash": "61e8b4e35c47a4a1d7881fadc2c9cce2490a658a8a59065f85ab69359e20bc0f"
  },
  "kernelspec": {
   "display_name": "Python 3.10.0 64-bit",
   "language": "python",
   "name": "python3"
  },
  "language_info": {
   "codemirror_mode": {
    "name": "ipython",
    "version": 3
   },
   "file_extension": ".py",
   "mimetype": "text/x-python",
   "name": "python",
   "nbconvert_exporter": "python",
   "pygments_lexer": "ipython3",
   "version": "3.10.0"
  },
  "orig_nbformat": 4
 },
 "nbformat": 4,
 "nbformat_minor": 2
}
